{
 "cells": [
  {
   "attachments": {},
   "cell_type": "markdown",
   "metadata": {},
   "source": [
    "Name :- Rayapati Keerthi\n",
    "\n",
    "Assignment 02 :- Cassandra"
   ]
  },
  {
   "cell_type": "code",
   "execution_count": 181,
   "metadata": {},
   "outputs": [],
   "source": [
    "# Load the packages\n",
    "import pandas as pd\n",
    "from cassandra.cluster import Cluster"
   ]
  },
  {
   "cell_type": "code",
   "execution_count": 182,
   "metadata": {},
   "outputs": [
    {
     "data": {
      "text/html": [
       "<div>\n",
       "<style scoped>\n",
       "    .dataframe tbody tr th:only-of-type {\n",
       "        vertical-align: middle;\n",
       "    }\n",
       "\n",
       "    .dataframe tbody tr th {\n",
       "        vertical-align: top;\n",
       "    }\n",
       "\n",
       "    .dataframe thead th {\n",
       "        text-align: right;\n",
       "    }\n",
       "</style>\n",
       "<table border=\"1\" class=\"dataframe\">\n",
       "  <thead>\n",
       "    <tr style=\"text-align: right;\">\n",
       "      <th></th>\n",
       "      <th>warehouse_num</th>\n",
       "      <th>sku</th>\n",
       "      <th>description</th>\n",
       "      <th>product_name</th>\n",
       "    </tr>\n",
       "  </thead>\n",
       "  <tbody>\n",
       "    <tr>\n",
       "      <th>0</th>\n",
       "      <td>101</td>\n",
       "      <td>10001</td>\n",
       "      <td>'android'</td>\n",
       "      <td>'realme'</td>\n",
       "    </tr>\n",
       "    <tr>\n",
       "      <th>1</th>\n",
       "      <td>102</td>\n",
       "      <td>10002</td>\n",
       "      <td>'android'</td>\n",
       "      <td>'vivo'</td>\n",
       "    </tr>\n",
       "    <tr>\n",
       "      <th>2</th>\n",
       "      <td>103</td>\n",
       "      <td>10003</td>\n",
       "      <td>'android'</td>\n",
       "      <td>'samsung'</td>\n",
       "    </tr>\n",
       "    <tr>\n",
       "      <th>3</th>\n",
       "      <td>104</td>\n",
       "      <td>10004</td>\n",
       "      <td>'android'</td>\n",
       "      <td>'galaxy'</td>\n",
       "    </tr>\n",
       "    <tr>\n",
       "      <th>4</th>\n",
       "      <td>104</td>\n",
       "      <td>10005</td>\n",
       "      <td>'ios'</td>\n",
       "      <td>'iphone'</td>\n",
       "    </tr>\n",
       "    <tr>\n",
       "      <th>5</th>\n",
       "      <td>106</td>\n",
       "      <td>10006</td>\n",
       "      <td>'android'</td>\n",
       "      <td>'appo'</td>\n",
       "    </tr>\n",
       "    <tr>\n",
       "      <th>6</th>\n",
       "      <td>104</td>\n",
       "      <td>10007</td>\n",
       "      <td>'android'</td>\n",
       "      <td>'nokia'</td>\n",
       "    </tr>\n",
       "    <tr>\n",
       "      <th>7</th>\n",
       "      <td>108</td>\n",
       "      <td>10008</td>\n",
       "      <td>'android'</td>\n",
       "      <td>'oneplus'</td>\n",
       "    </tr>\n",
       "    <tr>\n",
       "      <th>8</th>\n",
       "      <td>109</td>\n",
       "      <td>10009</td>\n",
       "      <td>'android'</td>\n",
       "      <td>'google'</td>\n",
       "    </tr>\n",
       "  </tbody>\n",
       "</table>\n",
       "</div>"
      ],
      "text/plain": [
       "   warehouse_num    sku description product_name\n",
       "0            101  10001   'android'     'realme'\n",
       "1            102  10002   'android'       'vivo'\n",
       "2            103  10003   'android'    'samsung'\n",
       "3            104  10004   'android'     'galaxy'\n",
       "4            104  10005       'ios'     'iphone'\n",
       "5            106  10006   'android'       'appo'\n",
       "6            104  10007   'android'      'nokia'\n",
       "7            108  10008   'android'    'oneplus'\n",
       "8            109  10009   'android'     'google'"
      ]
     },
     "execution_count": 182,
     "metadata": {},
     "output_type": "execute_result"
    }
   ],
   "source": [
    "# Load the datasets from the csv file\n",
    "df_info = pd.read_csv('m14.csv')\n",
    "df_info"
   ]
  },
  {
   "cell_type": "code",
   "execution_count": 183,
   "metadata": {},
   "outputs": [
    {
     "data": {
      "text/html": [
       "<div>\n",
       "<style scoped>\n",
       "    .dataframe tbody tr th:only-of-type {\n",
       "        vertical-align: middle;\n",
       "    }\n",
       "\n",
       "    .dataframe tbody tr th {\n",
       "        vertical-align: top;\n",
       "    }\n",
       "\n",
       "    .dataframe thead th {\n",
       "        text-align: right;\n",
       "    }\n",
       "</style>\n",
       "<table border=\"1\" class=\"dataframe\">\n",
       "  <thead>\n",
       "    <tr style=\"text-align: right;\">\n",
       "      <th></th>\n",
       "      <th>warehouse_num</th>\n",
       "      <th>sku</th>\n",
       "      <th>description</th>\n",
       "      <th>product_name</th>\n",
       "    </tr>\n",
       "  </thead>\n",
       "  <tbody>\n",
       "    <tr>\n",
       "      <th>0</th>\n",
       "      <td>101</td>\n",
       "      <td>10001</td>\n",
       "      <td>'android'</td>\n",
       "      <td>'realme'</td>\n",
       "    </tr>\n",
       "    <tr>\n",
       "      <th>1</th>\n",
       "      <td>102</td>\n",
       "      <td>10002</td>\n",
       "      <td>'android'</td>\n",
       "      <td>'vivo'</td>\n",
       "    </tr>\n",
       "    <tr>\n",
       "      <th>2</th>\n",
       "      <td>103</td>\n",
       "      <td>10003</td>\n",
       "      <td>'android'</td>\n",
       "      <td>'samsung'</td>\n",
       "    </tr>\n",
       "    <tr>\n",
       "      <th>3</th>\n",
       "      <td>104</td>\n",
       "      <td>10004</td>\n",
       "      <td>'android'</td>\n",
       "      <td>'galaxy'</td>\n",
       "    </tr>\n",
       "    <tr>\n",
       "      <th>4</th>\n",
       "      <td>104</td>\n",
       "      <td>10005</td>\n",
       "      <td>'ios'</td>\n",
       "      <td>'iphone'</td>\n",
       "    </tr>\n",
       "  </tbody>\n",
       "</table>\n",
       "</div>"
      ],
      "text/plain": [
       "   warehouse_num    sku description product_name\n",
       "0            101  10001   'android'     'realme'\n",
       "1            102  10002   'android'       'vivo'\n",
       "2            103  10003   'android'    'samsung'\n",
       "3            104  10004   'android'     'galaxy'\n",
       "4            104  10005       'ios'     'iphone'"
      ]
     },
     "execution_count": 183,
     "metadata": {},
     "output_type": "execute_result"
    }
   ],
   "source": [
    "# Display the first five rows\n",
    "df_info.head()\n"
   ]
  },
  {
   "cell_type": "code",
   "execution_count": 184,
   "metadata": {},
   "outputs": [],
   "source": [
    "# cassandra connectivity\n",
    "clstr = Cluster()\n",
    "session = clstr.connect()"
   ]
  },
  {
   "cell_type": "code",
   "execution_count": 185,
   "metadata": {},
   "outputs": [
    {
     "data": {
      "text/plain": [
       "<cassandra.cluster.ResultSet at 0x7f5b08105990>"
      ]
     },
     "execution_count": 185,
     "metadata": {},
     "output_type": "execute_result"
    }
   ],
   "source": [
    "session.execute(\"DROP KEYSPACE IF EXISTS m14\")"
   ]
  },
  {
   "cell_type": "code",
   "execution_count": 186,
   "metadata": {},
   "outputs": [
    {
     "data": {
      "text/plain": [
       "<cassandra.cluster.ResultSet at 0x7f5af078ac50>"
      ]
     },
     "execution_count": 186,
     "metadata": {},
     "output_type": "execute_result"
    }
   ],
   "source": [
    "# to create the keyspace in the \n",
    "session.execute(\"CREATE KEYSPACE IF NOT EXISTS m14 with REPLICATION= {'class':'SimpleStrategy','replication_factor':2}\")"
   ]
  },
  {
   "cell_type": "code",
   "execution_count": 187,
   "metadata": {},
   "outputs": [
    {
     "name": "stdout",
     "output_type": "stream",
     "text": [
      "m14\n",
      "system\n",
      "system_auth\n",
      "system_distributed\n",
      "system_schema\n",
      "system_traces\n",
      "system_views\n",
      "system_virtual_schema\n",
      "w04\n",
      "w04python\n"
     ]
    }
   ],
   "source": [
    "# to displays m14 keyspaces \n",
    "rows = session.execute(\"desc keyspaces\")\n",
    "for row in rows:\n",
    "    print(f\"{row[0]}\")"
   ]
  },
  {
   "cell_type": "code",
   "execution_count": null,
   "metadata": {},
   "outputs": [],
   "source": []
  },
  {
   "cell_type": "code",
   "execution_count": 188,
   "metadata": {},
   "outputs": [
    {
     "data": {
      "text/plain": [
       "<cassandra.cluster.ResultSet at 0x7f5b263f9350>"
      ]
     },
     "execution_count": 188,
     "metadata": {},
     "output_type": "execute_result"
    }
   ],
   "source": [
    "\n",
    "session.execute(\"\"\"\n",
    "CREATE TABLE IF NOT EXISTS m14.InventoryInfo(\n",
    "     warehouse_num INT, \n",
    "     sku INT, \n",
    "     product_name TEXT, \n",
    "     description TEXT,\n",
    "     PRIMARY KEY(sku)\n",
    "    \n",
    ");\n",
    "\"\"\")"
   ]
  },
  {
   "cell_type": "code",
   "execution_count": 189,
   "metadata": {},
   "outputs": [
    {
     "data": {
      "text/plain": [
       "<cassandra.cluster.ResultSet at 0x7f5b081b3d50>"
      ]
     },
     "execution_count": 189,
     "metadata": {},
     "output_type": "execute_result"
    }
   ],
   "source": [
    "session.execute(\"select * from m14.InventoryInfo\")"
   ]
  },
  {
   "cell_type": "code",
   "execution_count": 190,
   "metadata": {},
   "outputs": [
    {
     "name": "stdout",
     "output_type": "stream",
     "text": [
      "warehouse_num= 101, sku = 10001, product_name = 'android', description = 'realme'\n",
      "warehouse_num= 102, sku = 10002, product_name = 'android', description = 'vivo'\n",
      "warehouse_num= 103, sku = 10003, product_name = 'android', description = 'samsung'\n",
      "warehouse_num= 104, sku = 10004, product_name = 'android', description = 'galaxy'\n",
      "warehouse_num= 104, sku = 10005, product_name = 'ios', description = 'iphone'\n",
      "warehouse_num= 106, sku = 10006, product_name = 'android', description = 'appo'\n",
      "warehouse_num= 104, sku = 10007, product_name = 'android', description = 'nokia'\n",
      "warehouse_num= 108, sku = 10008, product_name = 'android', description = 'oneplus'\n",
      "warehouse_num= 109, sku = 10009, product_name = 'android', description = 'google'\n"
     ]
    }
   ],
   "source": [
    "for index, row in df_info.head(10).iterrows():\n",
    "    print(f\"warehouse_num= {row[0]}, sku = {row[1]}, product_name = {row[2]}, description = {row[3]}\")"
   ]
  },
  {
   "cell_type": "code",
   "execution_count": 191,
   "metadata": {},
   "outputs": [
    {
     "name": "stdout",
     "output_type": "stream",
     "text": [
      "\n",
      "        INSERT INTO m14.InventoryInfo (warehouse_num, sku, product_name, description)     \n",
      "        VALUES (101, 10001, 'android', 'realme');\n",
      "    \n",
      "\n",
      "        INSERT INTO m14.InventoryInfo (warehouse_num, sku, product_name, description)     \n",
      "        VALUES (102, 10002, 'android', 'vivo');\n",
      "    \n",
      "\n",
      "        INSERT INTO m14.InventoryInfo (warehouse_num, sku, product_name, description)     \n",
      "        VALUES (103, 10003, 'android', 'samsung');\n",
      "    \n",
      "\n",
      "        INSERT INTO m14.InventoryInfo (warehouse_num, sku, product_name, description)     \n",
      "        VALUES (104, 10004, 'android', 'galaxy');\n",
      "    \n",
      "\n",
      "        INSERT INTO m14.InventoryInfo (warehouse_num, sku, product_name, description)     \n",
      "        VALUES (104, 10005, 'ios', 'iphone');\n",
      "    \n",
      "\n",
      "        INSERT INTO m14.InventoryInfo (warehouse_num, sku, product_name, description)     \n",
      "        VALUES (106, 10006, 'android', 'appo');\n",
      "    \n",
      "\n",
      "        INSERT INTO m14.InventoryInfo (warehouse_num, sku, product_name, description)     \n",
      "        VALUES (104, 10007, 'android', 'nokia');\n",
      "    \n",
      "\n",
      "        INSERT INTO m14.InventoryInfo (warehouse_num, sku, product_name, description)     \n",
      "        VALUES (108, 10008, 'android', 'oneplus');\n",
      "    \n",
      "\n",
      "        INSERT INTO m14.InventoryInfo (warehouse_num, sku, product_name, description)     \n",
      "        VALUES (109, 10009, 'android', 'google');\n",
      "    \n"
     ]
    }
   ],
   "source": [
    "for index, row in df_info.iterrows():\n",
    "    print(f\"\"\"\n",
    "        INSERT INTO m14.InventoryInfo (warehouse_num, sku, product_name, description)     \n",
    "        VALUES ({row[0]}, {row[1]}, {row[2]}, {row[3]});\n",
    "    \"\"\")\n",
    "    session.execute(f\"\"\"\n",
    "        INSERT INTO m14.InventoryInfo (warehouse_num, sku, product_name, description)     \n",
    "        VALUES ({row[0]}, {row[1]}, {row[2]}, {row[3]});\n",
    "    \"\"\")"
   ]
  },
  {
   "cell_type": "code",
   "execution_count": 192,
   "metadata": {},
   "outputs": [
    {
     "name": "stdout",
     "output_type": "stream",
     "text": [
      "warehouse_num=101, sku=10001, product_name=android, description=realme\n",
      "warehouse_num=102, sku=10002, product_name=android, description=vivo\n",
      "warehouse_num=104, sku=10007, product_name=android, description=nokia\n",
      "warehouse_num=103, sku=10003, product_name=android, description=samsung\n",
      "warehouse_num=106, sku=10006, product_name=android, description=appo\n",
      "warehouse_num=104, sku=10004, product_name=android, description=galaxy\n",
      "warehouse_num=109, sku=10009, product_name=android, description=google\n",
      "warehouse_num=104, sku=10005, product_name=ios, description=iphone\n",
      "warehouse_num=108, sku=10008, product_name=android, description=oneplus\n"
     ]
    }
   ],
   "source": [
    "rows = session.execute(\"select (warehouse_num,sku,product_name,description) from m14.InventoryInfo\")\n",
    "for row in rows:\n",
    "    print(f\"warehouse_num={row[0][0]}, sku={row[0][1]}, product_name={row[0][2]}, description={row[0][3]}\")"
   ]
  },
  {
   "cell_type": "code",
   "execution_count": 193,
   "metadata": {},
   "outputs": [
    {
     "data": {
      "text/plain": [
       "<cassandra.cluster.ResultSet at 0x7f5b083965d0>"
      ]
     },
     "execution_count": 193,
     "metadata": {},
     "output_type": "execute_result"
    }
   ],
   "source": [
    "\n",
    "index_Adding = \"CREATE INDEX Indexing_Adding ON m14.InventoryInfo (warehouse_num);\"\n",
    "session.execute(index_Adding)"
   ]
  },
  {
   "cell_type": "code",
   "execution_count": 194,
   "metadata": {},
   "outputs": [
    {
     "name": "stdout",
     "output_type": "stream",
     "text": [
      "warehouse_num=104, sku=10007, product_name=android, description=nokia\n",
      "warehouse_num=104, sku=10004, product_name=android, description=galaxy\n",
      "warehouse_num=104, sku=10005, product_name=ios, description=iphone\n"
     ]
    }
   ],
   "source": [
    "rows = session.execute(\"select (warehouse_num,sku,product_name,description) from m14.InventoryInfo where warehouse_num = 104 \")\n",
    "for row in rows:\n",
    "    print(f\"warehouse_num={row[0][0]}, sku={row[0][1]}, product_name={row[0][2]}, description={row[0][3]}\")"
   ]
  },
  {
   "cell_type": "code",
   "execution_count": null,
   "metadata": {},
   "outputs": [],
   "source": []
  }
 ],
 "metadata": {
  "kernelspec": {
   "display_name": "bd",
   "language": "python",
   "name": "python3"
  },
  "language_info": {
   "codemirror_mode": {
    "name": "ipython",
    "version": 3
   },
   "file_extension": ".py",
   "mimetype": "text/x-python",
   "name": "python",
   "nbconvert_exporter": "python",
   "pygments_lexer": "ipython3",
   "version": "3.11.5"
  },
  "orig_nbformat": 4
 },
 "nbformat": 4,
 "nbformat_minor": 2
}
